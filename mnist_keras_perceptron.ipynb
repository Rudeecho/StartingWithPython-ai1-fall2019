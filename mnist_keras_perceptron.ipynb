{
  "nbformat": 4,
  "nbformat_minor": 0,
  "metadata": {
    "colab": {
      "name": "mnist-keras-perceptron.ipynb",
      "provenance": [],
      "collapsed_sections": [],
      "include_colab_link": true
    },
    "kernelspec": {
      "name": "python3",
      "display_name": "Python 3"
    },
    "accelerator": "GPU"
  },
  "cells": [
    {
      "cell_type": "markdown",
      "metadata": {
        "id": "view-in-github",
        "colab_type": "text"
      },
      "source": [
        "<a href=\"https://colab.research.google.com/github/Rudeecho/StartingWithPython-ai1-fall2019/blob/master/mnist_keras_perceptron.ipynb\" target=\"_parent\"><img src=\"https://colab.research.google.com/assets/colab-badge.svg\" alt=\"Open In Colab\"/></a>"
      ]
    },
    {
      "cell_type": "code",
      "metadata": {
        "id": "0rrbVKm5n6E3",
        "colab_type": "code",
        "colab": {}
      },
      "source": [
        "import numpy as np\n",
        "from keras.datasets import mnist\n",
        "from keras.models import Sequential\n",
        "from keras.layers import Dense, Flatten, Dropout\n",
        "from keras.utils import np_utils\n",
        "from keras.callbacks import Callback\n",
        "import json\n",
        "\n",
        "# from wandb.keras import WandbCallback\n",
        "# import wandb\n",
        "\n",
        "# run = wandb.init()\n",
        "# config = run.config\n"
      ],
      "execution_count": 0,
      "outputs": []
    },
    {
      "cell_type": "markdown",
      "metadata": {
        "id": "O7ykdrNIUmVg",
        "colab_type": "text"
      },
      "source": [
        "### Hey\n",
        "\n",
        "- Hey\n",
        "$\\alpha_{a,b} = \\Omega$\n",
        "#---\n",
        "$alpha$"
      ]
    },
    {
      "cell_type": "code",
      "metadata": {
        "id": "WCO9zegHRw38",
        "colab_type": "code",
        "colab": {}
      },
      "source": [
        "class Config:\n",
        "  pass\n",
        "\n",
        "config = Config()\n",
        "config.optimizer = \"adam\"\n",
        "config.epochs = 30\n",
        "config.hidden_nodes = 30\n"
      ],
      "execution_count": 0,
      "outputs": []
    },
    {
      "cell_type": "code",
      "metadata": {
        "id": "kXitI0DtWhSD",
        "colab_type": "code",
        "colab": {
          "base_uri": "https://localhost:8080/",
          "height": 51
        },
        "outputId": "d8a4c62e-1ba0-4cdc-d258-d72eefd2ed31"
      },
      "source": [
        "# load data\n",
        "(X_train, y_train), (X_test, y_test) = mnist.load_data()\n",
        "img_width = X_train.shape[1]\n",
        "img_height = X_train.shape[2]\n",
        "print(X_train.shape, y_train.shape)\n",
        "#X_train = X_train.astype('float32')\n",
        "#X_train /= 255.\n",
        "#X_test = X_test.astype('float32')\n",
        "#X_test /= 255.\n",
        "\n",
        "# Normalize, change learning rate, play with layer size, batchsize\n",
        "\n",
        "# one hot encode outputs\n",
        "y_train[0]"
      ],
      "execution_count": 42,
      "outputs": [
        {
          "output_type": "stream",
          "text": [
            "(60000, 28, 28) (60000,)\n"
          ],
          "name": "stdout"
        },
        {
          "output_type": "execute_result",
          "data": {
            "text/plain": [
              "5"
            ]
          },
          "metadata": {
            "tags": []
          },
          "execution_count": 42
        }
      ]
    },
    {
      "cell_type": "code",
      "metadata": {
        "id": "ofVQFf6ZBq6z",
        "colab_type": "code",
        "colab": {}
      },
      "source": [
        "y_train = np_utils.to_categorical(y_train)\n",
        "y_test = np_utils.to_categorical(y_test)\n",
        "labels = range(10)\n",
        "\n",
        "num_classes = y_train.shape[1]"
      ],
      "execution_count": 0,
      "outputs": []
    },
    {
      "cell_type": "code",
      "metadata": {
        "id": "qzfnvPvQCQgZ",
        "colab_type": "code",
        "colab": {
          "base_uri": "https://localhost:8080/",
          "height": 34
        },
        "outputId": "d47ae1b1-d084-4bf2-8e31-18311d3c565f"
      },
      "source": [
        "y_train[0]"
      ],
      "execution_count": 44,
      "outputs": [
        {
          "output_type": "execute_result",
          "data": {
            "text/plain": [
              "array([0., 0., 0., 0., 0., 1., 0., 0., 0., 0.], dtype=float32)"
            ]
          },
          "metadata": {
            "tags": []
          },
          "execution_count": 44
        }
      ]
    },
    {
      "cell_type": "code",
      "metadata": {
        "id": "7mSHp9u3R2Zq",
        "colab_type": "code",
        "colab": {
          "base_uri": "https://localhost:8080/",
          "height": 289
        },
        "outputId": "f42d9f2c-1ee2-456f-df4b-f9040cfd2634"
      },
      "source": [
        "# create model\n",
        "model = Sequential()\n",
        "model.add(Flatten(input_shape=(img_width, img_height)))\n",
        "model.add(Dense(config.hidden_nodes, activation='relu'))\n",
        "model.add(Dense(config.hidden_nodes, activation='relu'))\n",
        "model.add(Dense(num_classes, activation='softmax'))\n",
        "model.compile(loss='categorical_crossentropy', optimizer=config.optimizer,\n",
        "              metrics=['accuracy'])\n",
        "model.summary()"
      ],
      "execution_count": 21,
      "outputs": [
        {
          "output_type": "stream",
          "text": [
            "Model: \"sequential_2\"\n",
            "_________________________________________________________________\n",
            "Layer (type)                 Output Shape              Param #   \n",
            "=================================================================\n",
            "flatten_2 (Flatten)          (None, 784)               0         \n",
            "_________________________________________________________________\n",
            "dense_4 (Dense)              (None, 30)                23550     \n",
            "_________________________________________________________________\n",
            "dense_5 (Dense)              (None, 30)                930       \n",
            "_________________________________________________________________\n",
            "dense_6 (Dense)              (None, 10)                310       \n",
            "=================================================================\n",
            "Total params: 24,790\n",
            "Trainable params: 24,790\n",
            "Non-trainable params: 0\n",
            "_________________________________________________________________\n"
          ],
          "name": "stdout"
        }
      ]
    },
    {
      "cell_type": "code",
      "metadata": {
        "id": "EV6EmJNmSYBb",
        "colab_type": "code",
        "colab": {
          "base_uri": "https://localhost:8080/",
          "height": 1000
        },
        "outputId": "f879d090-1fad-4ed2-fcb6-e039e1a4b06b"
      },
      "source": [
        "# Fit the model\n",
        "model.fit(X_train, y_train, validation_data=(X_test, y_test),\n",
        "          epochs=config.epochs)"
      ],
      "execution_count": 22,
      "outputs": [
        {
          "output_type": "stream",
          "text": [
            "Train on 60000 samples, validate on 10000 samples\n",
            "Epoch 1/30\n",
            "60000/60000 [==============================] - 10s 167us/step - loss: 8.2092 - acc: 0.4868 - val_loss: 6.7967 - val_acc: 0.5765\n",
            "Epoch 2/30\n",
            "60000/60000 [==============================] - 10s 165us/step - loss: 6.8600 - acc: 0.5717 - val_loss: 5.6238 - val_acc: 0.6457\n",
            "Epoch 3/30\n",
            "60000/60000 [==============================] - 10s 163us/step - loss: 4.6177 - acc: 0.7088 - val_loss: 4.2159 - val_acc: 0.7358\n",
            "Epoch 4/30\n",
            "60000/60000 [==============================] - 10s 162us/step - loss: 4.2990 - acc: 0.7301 - val_loss: 4.3233 - val_acc: 0.7284\n",
            "Epoch 5/30\n",
            "60000/60000 [==============================] - 10s 163us/step - loss: 4.2886 - acc: 0.7317 - val_loss: 4.1251 - val_acc: 0.7421\n",
            "Epoch 6/30\n",
            "60000/60000 [==============================] - 10s 164us/step - loss: 4.2178 - acc: 0.7361 - val_loss: 4.0183 - val_acc: 0.7494\n",
            "Epoch 7/30\n",
            "60000/60000 [==============================] - 10s 164us/step - loss: 4.2634 - acc: 0.7336 - val_loss: 4.1689 - val_acc: 0.7401\n",
            "Epoch 8/30\n",
            "60000/60000 [==============================] - 10s 163us/step - loss: 4.1950 - acc: 0.7382 - val_loss: 4.1579 - val_acc: 0.7405\n",
            "Epoch 9/30\n",
            "60000/60000 [==============================] - 10s 163us/step - loss: 4.1357 - acc: 0.7421 - val_loss: 4.1146 - val_acc: 0.7434\n",
            "Epoch 10/30\n",
            "60000/60000 [==============================] - 10s 162us/step - loss: 4.2570 - acc: 0.7344 - val_loss: 4.6589 - val_acc: 0.7090\n",
            "Epoch 11/30\n",
            "60000/60000 [==============================] - 10s 162us/step - loss: 4.1068 - acc: 0.7438 - val_loss: 4.1022 - val_acc: 0.7446\n",
            "Epoch 12/30\n",
            "60000/60000 [==============================] - 10s 163us/step - loss: 4.1352 - acc: 0.7424 - val_loss: 4.1013 - val_acc: 0.7446\n",
            "Epoch 13/30\n",
            "60000/60000 [==============================] - 10s 166us/step - loss: 4.0775 - acc: 0.7462 - val_loss: 4.0383 - val_acc: 0.7484\n",
            "Epoch 14/30\n",
            "60000/60000 [==============================] - 10s 170us/step - loss: 4.1210 - acc: 0.7433 - val_loss: 3.9677 - val_acc: 0.7531\n",
            "Epoch 15/30\n",
            "60000/60000 [==============================] - 10s 163us/step - loss: 4.1003 - acc: 0.7449 - val_loss: 3.9425 - val_acc: 0.7547\n",
            "Epoch 16/30\n",
            "60000/60000 [==============================] - 10s 162us/step - loss: 4.1124 - acc: 0.7442 - val_loss: 4.0436 - val_acc: 0.7486\n",
            "Epoch 17/30\n",
            "60000/60000 [==============================] - 10s 163us/step - loss: 4.0967 - acc: 0.7452 - val_loss: 4.0073 - val_acc: 0.7506\n",
            "Epoch 18/30\n",
            "60000/60000 [==============================] - 10s 162us/step - loss: 4.0161 - acc: 0.7501 - val_loss: 4.0827 - val_acc: 0.7460\n",
            "Epoch 19/30\n",
            "60000/60000 [==============================] - 10s 162us/step - loss: 4.0305 - acc: 0.7493 - val_loss: 4.1207 - val_acc: 0.7438\n",
            "Epoch 20/30\n",
            "60000/60000 [==============================] - 10s 163us/step - loss: 4.0924 - acc: 0.7454 - val_loss: 4.0048 - val_acc: 0.7511\n",
            "Epoch 21/30\n",
            "60000/60000 [==============================] - 10s 162us/step - loss: 4.0933 - acc: 0.7454 - val_loss: 4.4346 - val_acc: 0.7239\n",
            "Epoch 22/30\n",
            "60000/60000 [==============================] - 10s 162us/step - loss: 4.1032 - acc: 0.7449 - val_loss: 4.1046 - val_acc: 0.7444\n",
            "Epoch 23/30\n",
            "60000/60000 [==============================] - 10s 164us/step - loss: 4.0969 - acc: 0.7452 - val_loss: 3.9464 - val_acc: 0.7547\n",
            "Epoch 24/30\n",
            "60000/60000 [==============================] - 10s 165us/step - loss: 4.0879 - acc: 0.7458 - val_loss: 4.1512 - val_acc: 0.7419\n",
            "Epoch 25/30\n",
            "60000/60000 [==============================] - 10s 164us/step - loss: 4.1653 - acc: 0.7411 - val_loss: 4.0437 - val_acc: 0.7487\n",
            "Epoch 26/30\n",
            "60000/60000 [==============================] - 10s 164us/step - loss: 4.1012 - acc: 0.7451 - val_loss: 4.0520 - val_acc: 0.7482\n",
            "Epoch 27/30\n",
            "60000/60000 [==============================] - 10s 160us/step - loss: 4.1036 - acc: 0.7450 - val_loss: 3.9318 - val_acc: 0.7554\n",
            "Epoch 28/30\n",
            "60000/60000 [==============================] - 10s 163us/step - loss: 4.0651 - acc: 0.7475 - val_loss: 4.0736 - val_acc: 0.7471\n",
            "Epoch 29/30\n",
            "60000/60000 [==============================] - 10s 160us/step - loss: 4.0713 - acc: 0.7470 - val_loss: 4.1166 - val_acc: 0.7440\n",
            "Epoch 30/30\n",
            "60000/60000 [==============================] - 10s 161us/step - loss: 4.0418 - acc: 0.7489 - val_loss: 4.0311 - val_acc: 0.7497\n"
          ],
          "name": "stdout"
        },
        {
          "output_type": "execute_result",
          "data": {
            "text/plain": [
              "<keras.callbacks.History at 0x7f404cc36be0>"
            ]
          },
          "metadata": {
            "tags": []
          },
          "execution_count": 22
        }
      ]
    },
    {
      "cell_type": "code",
      "metadata": {
        "id": "_hOEBsfeyFMw",
        "colab_type": "code",
        "colab": {
          "base_uri": "https://localhost:8080/",
          "height": 1000
        },
        "outputId": "8dd84a2a-9c22-4a90-a2cc-6dccf0416371"
      },
      "source": [
        "dir()"
      ],
      "execution_count": 23,
      "outputs": [
        {
          "output_type": "execute_result",
          "data": {
            "text/plain": [
              "['Callback',\n",
              " 'Config',\n",
              " 'Dense',\n",
              " 'Dropout',\n",
              " 'Flatten',\n",
              " 'GPU',\n",
              " 'GPUs',\n",
              " 'In',\n",
              " 'Out',\n",
              " 'Sequential',\n",
              " 'X_test',\n",
              " 'X_train',\n",
              " '_',\n",
              " '_22',\n",
              " '_5',\n",
              " '_7',\n",
              " '__',\n",
              " '___',\n",
              " '__builtin__',\n",
              " '__builtins__',\n",
              " '__doc__',\n",
              " '__loader__',\n",
              " '__name__',\n",
              " '__package__',\n",
              " '__spec__',\n",
              " '_dh',\n",
              " '_exit_code',\n",
              " '_i',\n",
              " '_i1',\n",
              " '_i10',\n",
              " '_i11',\n",
              " '_i12',\n",
              " '_i13',\n",
              " '_i14',\n",
              " '_i15',\n",
              " '_i16',\n",
              " '_i17',\n",
              " '_i18',\n",
              " '_i19',\n",
              " '_i2',\n",
              " '_i20',\n",
              " '_i21',\n",
              " '_i22',\n",
              " '_i23',\n",
              " '_i3',\n",
              " '_i4',\n",
              " '_i5',\n",
              " '_i6',\n",
              " '_i7',\n",
              " '_i8',\n",
              " '_i9',\n",
              " '_ih',\n",
              " '_ii',\n",
              " '_iii',\n",
              " '_oh',\n",
              " '_sh',\n",
              " 'config',\n",
              " 'exit',\n",
              " 'get_ipython',\n",
              " 'gpu',\n",
              " 'humanize',\n",
              " 'img_height',\n",
              " 'img_width',\n",
              " 'json',\n",
              " 'labels',\n",
              " 'mnist',\n",
              " 'model',\n",
              " 'np',\n",
              " 'np_utils',\n",
              " 'num_classes',\n",
              " 'os',\n",
              " 'printm',\n",
              " 'psutil',\n",
              " 'quit',\n",
              " 'y_test',\n",
              " 'y_train']"
            ]
          },
          "metadata": {
            "tags": []
          },
          "execution_count": 23
        }
      ]
    },
    {
      "cell_type": "code",
      "metadata": {
        "id": "w5y9CjEayenh",
        "colab_type": "code",
        "colab": {}
      },
      "source": [
        "history= _22"
      ],
      "execution_count": 0,
      "outputs": []
    },
    {
      "cell_type": "code",
      "metadata": {
        "id": "bSnlh2VL1B6L",
        "colab_type": "code",
        "colab": {
          "base_uri": "https://localhost:8080/",
          "height": 1000
        },
        "outputId": "ef6ad057-9151-4450-88c0-fa16200d9da4"
      },
      "source": [
        "history.history"
      ],
      "execution_count": 34,
      "outputs": [
        {
          "output_type": "execute_result",
          "data": {
            "text/plain": [
              "{'acc': [0.4868,\n",
              "  0.5717,\n",
              "  0.70885,\n",
              "  0.7300833333333333,\n",
              "  0.7316833333333334,\n",
              "  0.7361,\n",
              "  0.7335833333333334,\n",
              "  0.7382,\n",
              "  0.74215,\n",
              "  0.73445,\n",
              "  0.7437833333333334,\n",
              "  0.7424333333333333,\n",
              "  0.7462166666666666,\n",
              "  0.7432833333333333,\n",
              "  0.74485,\n",
              "  0.7442,\n",
              "  0.7452,\n",
              "  0.7501166666666667,\n",
              "  0.7492833333333333,\n",
              "  0.7453666666666666,\n",
              "  0.74545,\n",
              "  0.7449166666666667,\n",
              "  0.74525,\n",
              "  0.7458,\n",
              "  0.7411166666666666,\n",
              "  0.7450833333333333,\n",
              "  0.74495,\n",
              "  0.7474666666666666,\n",
              "  0.7469666666666667,\n",
              "  0.74885],\n",
              " 'loss': [8.209151065444946,\n",
              "  6.859983136367798,\n",
              "  4.617658318360647,\n",
              "  4.2990473619778955,\n",
              "  4.288641195360819,\n",
              "  4.217759672037761,\n",
              "  4.263374635251363,\n",
              "  4.195023506800334,\n",
              "  4.1356896034558615,\n",
              "  4.256955353228252,\n",
              "  4.106765538152059,\n",
              "  4.135238157717387,\n",
              "  4.077460319073995,\n",
              "  4.1209733147303265,\n",
              "  4.100322704696655,\n",
              "  4.1123526985327405,\n",
              "  4.096734808031718,\n",
              "  4.016064961242676,\n",
              "  4.030497228940328,\n",
              "  4.0923794819513954,\n",
              "  4.09327522315979,\n",
              "  4.103203199768067,\n",
              "  4.096916908836365,\n",
              "  4.087908363660176,\n",
              "  4.165294211832682,\n",
              "  4.101213502883911,\n",
              "  4.103606908416748,\n",
              "  4.065126468594869,\n",
              "  4.071346555201212,\n",
              "  4.041814913749695],\n",
              " 'val_acc': [0.5765,\n",
              "  0.6457,\n",
              "  0.7358,\n",
              "  0.7284,\n",
              "  0.7421,\n",
              "  0.7494,\n",
              "  0.7401,\n",
              "  0.7405,\n",
              "  0.7434,\n",
              "  0.709,\n",
              "  0.7446,\n",
              "  0.7446,\n",
              "  0.7484,\n",
              "  0.7531,\n",
              "  0.7547,\n",
              "  0.7486,\n",
              "  0.7506,\n",
              "  0.746,\n",
              "  0.7438,\n",
              "  0.7511,\n",
              "  0.7239,\n",
              "  0.7444,\n",
              "  0.7547,\n",
              "  0.7419,\n",
              "  0.7487,\n",
              "  0.7482,\n",
              "  0.7554,\n",
              "  0.7471,\n",
              "  0.744,\n",
              "  0.7497],\n",
              " 'val_loss': [6.796665177154541,\n",
              "  5.6238053455352786,\n",
              "  4.2159129264831545,\n",
              "  4.323273868942261,\n",
              "  4.125094854736328,\n",
              "  4.01830549659729,\n",
              "  4.168921932220459,\n",
              "  4.157882624816895,\n",
              "  4.114556377029419,\n",
              "  4.658866133880616,\n",
              "  4.102169367980957,\n",
              "  4.101339735031128,\n",
              "  4.0382945991516115,\n",
              "  3.967705039978027,\n",
              "  3.942499253845215,\n",
              "  4.043604884338379,\n",
              "  4.007251605987549,\n",
              "  4.082693193054199,\n",
              "  4.1206924385070804,\n",
              "  4.004781191635132,\n",
              "  4.43458818397522,\n",
              "  4.10457240409851,\n",
              "  3.946381743621826,\n",
              "  4.151234294128418,\n",
              "  4.043727054595947,\n",
              "  4.051959222793579,\n",
              "  3.931775644683838,\n",
              "  4.07357808265686,\n",
              "  4.116636409378052,\n",
              "  4.031120247268677]}"
            ]
          },
          "metadata": {
            "tags": []
          },
          "execution_count": 34
        }
      ]
    },
    {
      "cell_type": "code",
      "metadata": {
        "id": "xDbl-znW1YIz",
        "colab_type": "code",
        "colab": {
          "base_uri": "https://localhost:8080/",
          "height": 286
        },
        "outputId": "5fafaca0-efba-4f0e-b000-c53e2627a7f2"
      },
      "source": [
        "import matplotlib.pyplot as plt\n",
        "plt.plot(history.history[\"val_acc\"])"
      ],
      "execution_count": 37,
      "outputs": [
        {
          "output_type": "execute_result",
          "data": {
            "text/plain": [
              "[<matplotlib.lines.Line2D at 0x7f3ffe1307b8>]"
            ]
          },
          "metadata": {
            "tags": []
          },
          "execution_count": 37
        },
        {
          "output_type": "display_data",
          "data": {
            "image/png": "[encoded data removed]",
            "text/plain": [
              "<Figure size 432x288 with 1 Axes>"
            ]
          },
          "metadata": {
            "tags": []
          }
        }
      ]
    },
    {
      "cell_type": "code",
      "metadata": {
        "id": "rFxCxq6z5Qdc",
        "colab_type": "code",
        "colab": {
          "base_uri": "https://localhost:8080/",
          "height": 34
        },
        "outputId": "1887e39a-bde2-4c47-a070-d225b322d2fe"
      },
      "source": [
        "epochs = history.epoch\n",
        "history.history.keys()"
      ],
      "execution_count": 40,
      "outputs": [
        {
          "output_type": "execute_result",
          "data": {
            "text/plain": [
              "dict_keys(['val_loss', 'val_acc', 'loss', 'acc'])"
            ]
          },
          "metadata": {
            "tags": []
          },
          "execution_count": 40
        }
      ]
    }
  ]
}